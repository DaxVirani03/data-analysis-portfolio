{
 "cells": [
  {
   "cell_type": "markdown",
   "metadata": {
    "id": "8SvpYjClqcso"
   },
   "source": [
    "# Name : OM CHIRAGBHAI CHOKSI\n",
    "### SAMATRIX INTERNSHIP TASK NUMBER FINANCE DOMAIN 1\n",
    "\n",
    "In the stock market, investors build a portfolio by purchasing various stocks and assigning specific weightages to each based on their investment strategy. Using historical price data, we perform a detailed analysis of the portfolio to calculate key financial risk metrics such as Value at Risk (VaR) and Maximum Drawdown (MDD).\n",
    "\n",
    "Additionally, hypothesis testing and other statistical methods are applied to evaluate the performance and risk associated with the portfolio, helping in data-driven decision-making.\n",
    "\n",
    "in this project we taking Five Stocks\n",
    "\n",
    " TSLA , AAPL , GOOGL , MSFT , AMZN"
   ]
  },
  {
   "cell_type": "code",
   "execution_count": 1,
   "metadata": {
    "id": "Rnro0JuDtUYS"
   },
   "outputs": [
    {
     "name": "stdout",
     "output_type": "stream",
     "text": [
      "Collecting pandas_datareader\n",
      "  Downloading pandas_datareader-0.10.0-py3-none-any.whl.metadata (2.9 kB)\n",
      "Requirement already satisfied: lxml in c:\\users\\dax\\anaconda3\\lib\\site-packages (from pandas_datareader) (5.2.1)\n",
      "Requirement already satisfied: pandas>=0.23 in c:\\users\\dax\\anaconda3\\lib\\site-packages (from pandas_datareader) (2.2.3)\n",
      "Requirement already satisfied: requests>=2.19.0 in c:\\users\\dax\\anaconda3\\lib\\site-packages (from pandas_datareader) (2.32.3)\n",
      "Requirement already satisfied: numpy>=1.26.0 in c:\\users\\dax\\anaconda3\\lib\\site-packages (from pandas>=0.23->pandas_datareader) (1.26.4)\n",
      "Requirement already satisfied: python-dateutil>=2.8.2 in c:\\users\\dax\\anaconda3\\lib\\site-packages (from pandas>=0.23->pandas_datareader) (2.9.0.post0)\n",
      "Requirement already satisfied: pytz>=2020.1 in c:\\users\\dax\\anaconda3\\lib\\site-packages (from pandas>=0.23->pandas_datareader) (2024.1)\n",
      "Requirement already satisfied: tzdata>=2022.7 in c:\\users\\dax\\anaconda3\\lib\\site-packages (from pandas>=0.23->pandas_datareader) (2023.3)\n",
      "Requirement already satisfied: charset-normalizer<4,>=2 in c:\\users\\dax\\anaconda3\\lib\\site-packages (from requests>=2.19.0->pandas_datareader) (3.3.2)\n",
      "Requirement already satisfied: idna<4,>=2.5 in c:\\users\\dax\\anaconda3\\lib\\site-packages (from requests>=2.19.0->pandas_datareader) (3.7)\n",
      "Requirement already satisfied: urllib3<3,>=1.21.1 in c:\\users\\dax\\anaconda3\\lib\\site-packages (from requests>=2.19.0->pandas_datareader) (2.2.3)\n",
      "Requirement already satisfied: certifi>=2017.4.17 in c:\\users\\dax\\anaconda3\\lib\\site-packages (from requests>=2.19.0->pandas_datareader) (2024.8.30)\n",
      "Requirement already satisfied: six>=1.5 in c:\\users\\dax\\anaconda3\\lib\\site-packages (from python-dateutil>=2.8.2->pandas>=0.23->pandas_datareader) (1.16.0)\n",
      "Downloading pandas_datareader-0.10.0-py3-none-any.whl (109 kB)\n",
      "Installing collected packages: pandas_datareader\n",
      "Successfully installed pandas_datareader-0.10.0\n"
     ]
    }
   ],
   "source": [
    "!pip install pandas_datareader\n"
   ]
  },
  {
   "cell_type": "markdown",
   "metadata": {
    "id": "ZBmqndIts4Ek"
   },
   "source": [
    "### import Libraries"
   ]
  },
  {
   "cell_type": "code",
   "execution_count": 5,
   "metadata": {
    "id": "dHpb4Ecbs3kD"
   },
   "outputs": [],
   "source": [
    "import numpy as np\n",
    "import pandas as pd\n",
    "import matplotlib.pyplot as plt\n",
    "import yfinance as yf\n",
    "import time\n",
    "import seaborn as sns\n",
    "from pandas_datareader import data as pdr\n",
    "import datetime as dt\n",
    "from scipy import stats"
   ]
  },
  {
   "cell_type": "markdown",
   "metadata": {
    "id": "lYnXvtkJqcuh"
   },
   "source": [
    "### Download data"
   ]
  },
  {
   "cell_type": "code",
   "execution_count": 7,
   "metadata": {
    "colab": {
     "base_uri": "https://localhost:8080/",
     "height": 406
    },
    "id": "fg7ghJ1d-el-",
    "outputId": "afbc705d-568c-4787-82c8-269c6ec5ffd1"
   },
   "outputs": [
    {
     "data": {
      "text/html": [
       "<div>\n",
       "<style scoped>\n",
       "    .dataframe tbody tr th:only-of-type {\n",
       "        vertical-align: middle;\n",
       "    }\n",
       "\n",
       "    .dataframe tbody tr th {\n",
       "        vertical-align: top;\n",
       "    }\n",
       "\n",
       "    .dataframe thead th {\n",
       "        text-align: right;\n",
       "    }\n",
       "</style>\n",
       "<table border=\"1\" class=\"dataframe\">\n",
       "  <thead>\n",
       "    <tr style=\"text-align: right;\">\n",
       "      <th></th>\n",
       "    </tr>\n",
       "  </thead>\n",
       "  <tbody>\n",
       "    <tr>\n",
       "      <th>2020-01-01</th>\n",
       "    </tr>\n",
       "    <tr>\n",
       "      <th>2020-01-02</th>\n",
       "    </tr>\n",
       "    <tr>\n",
       "      <th>2020-01-03</th>\n",
       "    </tr>\n",
       "    <tr>\n",
       "      <th>2020-01-04</th>\n",
       "    </tr>\n",
       "    <tr>\n",
       "      <th>2020-01-05</th>\n",
       "    </tr>\n",
       "    <tr>\n",
       "      <th>...</th>\n",
       "    </tr>\n",
       "    <tr>\n",
       "      <th>2025-06-05</th>\n",
       "    </tr>\n",
       "    <tr>\n",
       "      <th>2025-06-06</th>\n",
       "    </tr>\n",
       "    <tr>\n",
       "      <th>2025-06-07</th>\n",
       "    </tr>\n",
       "    <tr>\n",
       "      <th>2025-06-08</th>\n",
       "    </tr>\n",
       "    <tr>\n",
       "      <th>2025-06-09</th>\n",
       "    </tr>\n",
       "  </tbody>\n",
       "</table>\n",
       "<p>1987 rows × 0 columns</p>\n",
       "</div>"
      ],
      "text/plain": [
       "Empty DataFrame\n",
       "Columns: []\n",
       "Index: [2020-01-01 00:00:00, 2020-01-02 00:00:00, 2020-01-03 00:00:00, 2020-01-04 00:00:00, 2020-01-05 00:00:00, 2020-01-06 00:00:00, 2020-01-07 00:00:00, 2020-01-08 00:00:00, 2020-01-09 00:00:00, 2020-01-10 00:00:00, 2020-01-11 00:00:00, 2020-01-12 00:00:00, 2020-01-13 00:00:00, 2020-01-14 00:00:00, 2020-01-15 00:00:00, 2020-01-16 00:00:00, 2020-01-17 00:00:00, 2020-01-18 00:00:00, 2020-01-19 00:00:00, 2020-01-20 00:00:00, 2020-01-21 00:00:00, 2020-01-22 00:00:00, 2020-01-23 00:00:00, 2020-01-24 00:00:00, 2020-01-25 00:00:00, 2020-01-26 00:00:00, 2020-01-27 00:00:00, 2020-01-28 00:00:00, 2020-01-29 00:00:00, 2020-01-30 00:00:00, 2020-01-31 00:00:00, 2020-02-01 00:00:00, 2020-02-02 00:00:00, 2020-02-03 00:00:00, 2020-02-04 00:00:00, 2020-02-05 00:00:00, 2020-02-06 00:00:00, 2020-02-07 00:00:00, 2020-02-08 00:00:00, 2020-02-09 00:00:00, 2020-02-10 00:00:00, 2020-02-11 00:00:00, 2020-02-12 00:00:00, 2020-02-13 00:00:00, 2020-02-14 00:00:00, 2020-02-15 00:00:00, 2020-02-16 00:00:00, 2020-02-17 00:00:00, 2020-02-18 00:00:00, 2020-02-19 00:00:00, 2020-02-20 00:00:00, 2020-02-21 00:00:00, 2020-02-22 00:00:00, 2020-02-23 00:00:00, 2020-02-24 00:00:00, 2020-02-25 00:00:00, 2020-02-26 00:00:00, 2020-02-27 00:00:00, 2020-02-28 00:00:00, 2020-02-29 00:00:00, 2020-03-01 00:00:00, 2020-03-02 00:00:00, 2020-03-03 00:00:00, 2020-03-04 00:00:00, 2020-03-05 00:00:00, 2020-03-06 00:00:00, 2020-03-07 00:00:00, 2020-03-08 00:00:00, 2020-03-09 00:00:00, 2020-03-10 00:00:00, 2020-03-11 00:00:00, 2020-03-12 00:00:00, 2020-03-13 00:00:00, 2020-03-14 00:00:00, 2020-03-15 00:00:00, 2020-03-16 00:00:00, 2020-03-17 00:00:00, 2020-03-18 00:00:00, 2020-03-19 00:00:00, 2020-03-20 00:00:00, 2020-03-21 00:00:00, 2020-03-22 00:00:00, 2020-03-23 00:00:00, 2020-03-24 00:00:00, 2020-03-25 00:00:00, 2020-03-26 00:00:00, 2020-03-27 00:00:00, 2020-03-28 00:00:00, 2020-03-29 00:00:00, 2020-03-30 00:00:00, 2020-03-31 00:00:00, 2020-04-01 00:00:00, 2020-04-02 00:00:00, 2020-04-03 00:00:00, 2020-04-04 00:00:00, 2020-04-05 00:00:00, 2020-04-06 00:00:00, 2020-04-07 00:00:00, 2020-04-08 00:00:00, 2020-04-09 00:00:00, ...]\n",
       "\n",
       "[1987 rows x 0 columns]"
      ]
     },
     "execution_count": 7,
     "metadata": {},
     "output_type": "execute_result"
    }
   ],
   "source": [
    "ticker = ['AAPL','MSFT','GOOGL','AMZN','TSLA']\n",
    "weights = np.array([0.20,0.20,0.20,0.20,0.20])\n",
    "\n",
    "start = dt.datetime(2020,1,1)\n",
    "end = dt.datetime.today()\n",
    "\n",
    "price = pd.DataFrame(index=pd.date_range(start,end))\n",
    "price"
   ]
  },
  {
   "cell_type": "code",
   "execution_count": 9,
   "metadata": {
    "colab": {
     "base_uri": "https://localhost:8080/"
    },
    "id": "FVCFxVmQ_M8e",
    "outputId": "3a1a5fb1-7cd5-4af1-a914-6933e48cb122"
   },
   "outputs": [
    {
     "name": "stdout",
     "output_type": "stream",
     "text": [
      "fetching['AAPL', 'MSFT', 'GOOGL', 'AMZN', 'TSLA']X yfinance ('list' object has no attribute 'upper'); falling back to Stooq\n",
      "fetching['AAPL', 'MSFT', 'GOOGL', 'AMZN', 'TSLA']X yfinance ('list' object has no attribute 'upper'); falling back to Stooq\n",
      "fetching['AAPL', 'MSFT', 'GOOGL', 'AMZN', 'TSLA']X yfinance ('list' object has no attribute 'upper'); falling back to Stooq\n",
      "fetching['AAPL', 'MSFT', 'GOOGL', 'AMZN', 'TSLA']X yfinance ('list' object has no attribute 'upper'); falling back to Stooq\n",
      "fetching['AAPL', 'MSFT', 'GOOGL', 'AMZN', 'TSLA']X yfinance ('list' object has no attribute 'upper'); falling back to Stooq\n",
      "              AAPL    MSFT   GOOGL    AMZN    TSLA\n",
      "2025-06-02  201.70  461.97  169.03  206.65  342.69\n",
      "2025-06-03  203.27  462.97  166.18  205.71  344.27\n",
      "2025-06-04  202.82  463.87  168.05  207.23  332.05\n",
      "2025-06-05  200.63  467.68  168.21  207.91  284.70\n",
      "2025-06-06  203.92  470.38  173.68  213.57  295.14\n"
     ]
    }
   ],
   "source": [
    "for t in ticker:\n",
    "  print(f\"fetching{ticker}\",end = \"\")\n",
    "  try:\n",
    "    ## featching the data\n",
    "    df = yf.Ticker(ticker).history(start=start.strftime(\"%Y-%m-%d\"),end = end.strftime(\"%Y-%m-%d\"),auto_adjust=True,)\n",
    "    series = df['Close']\n",
    "    print(\"Y finance \",end=\"\")\n",
    "  except Exception as e:\n",
    "    print(f\"X yfinance ({e}); falling back to Stooq\")\n",
    "    df2 = pdr.DataReader(ticker,'stooq',start,end)\n",
    "    df2 = df2.sort_index()\n",
    "    series= df2['Close']\n",
    "\n",
    "  price[ticker] = series\n",
    "  time.sleep(1)\n",
    "\n",
    "price = price.dropna(how='all').ffill().bfill()\n",
    "print(price.tail())"
   ]
  },
  {
   "cell_type": "markdown",
   "metadata": {
    "id": "zlDc5I5Eqcwj"
   },
   "source": [
    "### Compute Log Return"
   ]
  },
  {
   "cell_type": "code",
   "execution_count": 10,
   "metadata": {
    "colab": {
     "base_uri": "https://localhost:8080/",
     "height": 206
    },
    "id": "1zS5uon-AkF5",
    "outputId": "5b3e7b35-47f3-4054-efce-0424b8744a5a"
   },
   "outputs": [
    {
     "data": {
      "text/html": [
       "<div>\n",
       "<style scoped>\n",
       "    .dataframe tbody tr th:only-of-type {\n",
       "        vertical-align: middle;\n",
       "    }\n",
       "\n",
       "    .dataframe tbody tr th {\n",
       "        vertical-align: top;\n",
       "    }\n",
       "\n",
       "    .dataframe thead th {\n",
       "        text-align: right;\n",
       "    }\n",
       "</style>\n",
       "<table border=\"1\" class=\"dataframe\">\n",
       "  <thead>\n",
       "    <tr style=\"text-align: right;\">\n",
       "      <th></th>\n",
       "      <th>AAPL</th>\n",
       "      <th>MSFT</th>\n",
       "      <th>GOOGL</th>\n",
       "      <th>AMZN</th>\n",
       "      <th>TSLA</th>\n",
       "    </tr>\n",
       "  </thead>\n",
       "  <tbody>\n",
       "    <tr>\n",
       "      <th>2020-01-03</th>\n",
       "      <td>-0.009737</td>\n",
       "      <td>-0.012360</td>\n",
       "      <td>-0.005243</td>\n",
       "      <td>-0.012213</td>\n",
       "      <td>0.029203</td>\n",
       "    </tr>\n",
       "    <tr>\n",
       "      <th>2020-01-06</th>\n",
       "      <td>0.007879</td>\n",
       "      <td>0.002580</td>\n",
       "      <td>0.026304</td>\n",
       "      <td>0.014776</td>\n",
       "      <td>0.019073</td>\n",
       "    </tr>\n",
       "    <tr>\n",
       "      <th>2020-01-07</th>\n",
       "      <td>-0.004666</td>\n",
       "      <td>-0.009299</td>\n",
       "      <td>-0.001935</td>\n",
       "      <td>0.002089</td>\n",
       "      <td>0.038067</td>\n",
       "    </tr>\n",
       "    <tr>\n",
       "      <th>2020-01-08</th>\n",
       "      <td>0.015943</td>\n",
       "      <td>0.016008</td>\n",
       "      <td>0.007094</td>\n",
       "      <td>-0.007839</td>\n",
       "      <td>0.048030</td>\n",
       "    </tr>\n",
       "    <tr>\n",
       "      <th>2020-01-09</th>\n",
       "      <td>0.021054</td>\n",
       "      <td>0.012240</td>\n",
       "      <td>0.010441</td>\n",
       "      <td>0.004788</td>\n",
       "      <td>-0.022189</td>\n",
       "    </tr>\n",
       "  </tbody>\n",
       "</table>\n",
       "</div>"
      ],
      "text/plain": [
       "                AAPL      MSFT     GOOGL      AMZN      TSLA\n",
       "2020-01-03 -0.009737 -0.012360 -0.005243 -0.012213  0.029203\n",
       "2020-01-06  0.007879  0.002580  0.026304  0.014776  0.019073\n",
       "2020-01-07 -0.004666 -0.009299 -0.001935  0.002089  0.038067\n",
       "2020-01-08  0.015943  0.016008  0.007094 -0.007839  0.048030\n",
       "2020-01-09  0.021054  0.012240  0.010441  0.004788 -0.022189"
      ]
     },
     "execution_count": 10,
     "metadata": {},
     "output_type": "execute_result"
    }
   ],
   "source": [
    "#log-return = ln(P_t / P_{t-1})\n",
    "logR = np.log(price / price.shift(1)).dropna()\n",
    "logR.head()"
   ]
  },
  {
   "cell_type": "markdown",
   "metadata": {
    "id": "h7lRpQN0qcye"
   },
   "source": [
    "### Exmaple series for visual check bell shaped curved FOR TSLA\n"
   ]
  },
  {
   "cell_type": "code",
   "execution_count": 13,
   "metadata": {
    "colab": {
     "base_uri": "https://localhost:8080/",
     "height": 452
    },
    "id": "tUPVRmH1A1QX",
    "outputId": "2f34a035-bf54-41c4-d804-b32dfbd86451"
   },
   "outputs": [
    {
     "data": {
      "image/png": "[encoded data removed]",
      "text/plain": [
       "<Figure size 640x480 with 1 Axes>"
      ]
     },
     "metadata": {},
     "output_type": "display_data"
    }
   ],
   "source": [
    "logR['TSLA'].hist(bins=50, alpha=0.7)\n",
    "plt.title('TSLA Daily Log-Return Distribution')\n",
    "plt.show()"
   ]
  },
  {
   "cell_type": "markdown",
   "metadata": {
    "id": "0fMCDq-7BDLT"
   },
   "source": [
    "### key understanding\n",
    "\n",
    "Mean: average daily return\n",
    "\n",
    "Variance: how much returns vary\n",
    "\n",
    "Skewness: asymmetry (positive skew → fat right tail)\n",
    "\n",
    "Kurtosis: tail-heaviness (high kurtosis → more extreme days)"
   ]
  },
  {
   "cell_type": "code",
   "execution_count": 15,
   "metadata": {
    "colab": {
     "base_uri": "https://localhost:8080/",
     "height": 206
    },
    "id": "Pa7a5zRIBMRi",
    "outputId": "5c022b50-053a-4e05-875b-4620d401f4c7"
   },
   "outputs": [
    {
     "data": {
      "text/html": [
       "<div>\n",
       "<style scoped>\n",
       "    .dataframe tbody tr th:only-of-type {\n",
       "        vertical-align: middle;\n",
       "    }\n",
       "\n",
       "    .dataframe tbody tr th {\n",
       "        vertical-align: top;\n",
       "    }\n",
       "\n",
       "    .dataframe thead th {\n",
       "        text-align: right;\n",
       "    }\n",
       "</style>\n",
       "<table border=\"1\" class=\"dataframe\">\n",
       "  <thead>\n",
       "    <tr style=\"text-align: right;\">\n",
       "      <th></th>\n",
       "      <th>Mean</th>\n",
       "      <th>Variance</th>\n",
       "      <th>Skewness</th>\n",
       "      <th>Kurtosis</th>\n",
       "    </tr>\n",
       "  </thead>\n",
       "  <tbody>\n",
       "    <tr>\n",
       "      <th>AAPL</th>\n",
       "      <td>0.000756</td>\n",
       "      <td>0.000423</td>\n",
       "      <td>0.018596</td>\n",
       "      <td>6.234688</td>\n",
       "    </tr>\n",
       "    <tr>\n",
       "      <th>MSFT</th>\n",
       "      <td>0.000820</td>\n",
       "      <td>0.000370</td>\n",
       "      <td>-0.166755</td>\n",
       "      <td>7.476908</td>\n",
       "    </tr>\n",
       "    <tr>\n",
       "      <th>GOOGL</th>\n",
       "      <td>0.000685</td>\n",
       "      <td>0.000430</td>\n",
       "      <td>-0.225156</td>\n",
       "      <td>3.633234</td>\n",
       "    </tr>\n",
       "    <tr>\n",
       "      <th>AMZN</th>\n",
       "      <td>0.000595</td>\n",
       "      <td>0.000521</td>\n",
       "      <td>-0.071898</td>\n",
       "      <td>4.183234</td>\n",
       "    </tr>\n",
       "    <tr>\n",
       "      <th>TSLA</th>\n",
       "      <td>0.001709</td>\n",
       "      <td>0.001838</td>\n",
       "      <td>-0.080443</td>\n",
       "      <td>3.251715</td>\n",
       "    </tr>\n",
       "  </tbody>\n",
       "</table>\n",
       "</div>"
      ],
      "text/plain": [
       "           Mean  Variance  Skewness  Kurtosis\n",
       "AAPL   0.000756  0.000423  0.018596  6.234688\n",
       "MSFT   0.000820  0.000370 -0.166755  7.476908\n",
       "GOOGL  0.000685  0.000430 -0.225156  3.633234\n",
       "AMZN   0.000595  0.000521 -0.071898  4.183234\n",
       "TSLA   0.001709  0.001838 -0.080443  3.251715"
      ]
     },
     "execution_count": 15,
     "metadata": {},
     "output_type": "execute_result"
    }
   ],
   "source": [
    "summary = pd.DataFrame({\n",
    "    'Mean':    logR.mean(),\n",
    "    'Variance':logR.var(),\n",
    "    'Skewness':logR.skew(),\n",
    "    'Kurtosis':logR.kurtosis()\n",
    "})\n",
    "summary"
   ]
  },
  {
   "cell_type": "markdown",
   "metadata": {
    "id": "BaMLfkpwqc0e"
   },
   "source": [
    "Mean (≈0.05–0.08%): On average each stock’s daily return was very small—about a few‐tenths of a percent gain per day.**bold text**\n",
    "\n",
    "Variance (≈0.0004): Typical daily swings are around √0.0004 ≃ 2%, so most days see moves of a couple percent.\n",
    "\n",
    "Skewness (near zero or slightly negative): Returns are roughly symmetric, with a small tendency toward bigger down‐moves than up‐moves.\n",
    "\n",
    "Kurtosis (>3): All four have “fat tails,” meaning they experience more extreme one‐day jumps or crashes than a normal bell curve would predict."
   ]
  },
  {
   "cell_type": "markdown",
   "metadata": {
    "id": "mBQp7_HTqc2X"
   },
   "source": [
    "### Standard Deviation and 95 % C.F. via Chi-square:"
   ]
  },
  {
   "cell_type": "code",
   "execution_count": 17,
   "metadata": {
    "colab": {
     "base_uri": "https://localhost:8080/"
    },
    "id": "11Av9MU0BXiZ",
    "outputId": "09442e94-5521-4c56-9a1f-5c482b8c7ec9"
   },
   "outputs": [
    {
     "name": "stdout",
     "output_type": "stream",
     "text": [
      "Normal fit:\n",
      "  μ = 0.00091, 95% CI (0.0002779716885500425, 0.0015482684620242385)\n",
      "  σ = 0.02676, 95% CI (0.026320368397528392, 0.02721890489931302)\n"
     ]
    }
   ],
   "source": [
    "## calculate U and std deviation\n",
    "mu_norm, sigma_norm = logR.stack().mean(), logR.stack().std(ddof=1)\n",
    "# 95% CI for mean under Normal: μ ± z*·σ/√N\n",
    "N = logR.size\n",
    "z95 = stats.norm.ppf(0.975)\n",
    "ci_mu_norm = (mu_norm - z95*sigma_norm/np.sqrt(N),\n",
    "              mu_norm + z95*sigma_norm/np.sqrt(N))\n",
    "\n",
    "\n",
    "# 95% CI for σ via Chi-square:\n",
    "df = N-1\n",
    "chi2_low, chi2_high = stats.chi2.ppf([0.025,0.975], df)\n",
    "ci_sigma_norm = (sigma_norm*np.sqrt(df/chi2_high),\n",
    "                 sigma_norm*np.sqrt(df/chi2_low))\n",
    "\n",
    "print(\"Normal fit:\")\n",
    "print(f\"  μ = {mu_norm:.5f}, 95% CI {ci_mu_norm}\")\n",
    "print(f\"  σ = {sigma_norm:.5f}, 95% CI {ci_sigma_norm}\")"
   ]
  },
  {
   "cell_type": "markdown",
   "metadata": {
    "id": "-6aCifyrqc4Y"
   },
   "source": [
    "### Student's T test\n",
    "Fit t-distribution to the pooled returns\n",
    "\n",
    "returns_flat = all asset returns concatenated"
   ]
  },
  {
   "cell_type": "code",
   "execution_count": 19,
   "metadata": {
    "colab": {
     "base_uri": "https://localhost:8080/"
    },
    "id": "RBZ1bNtQCKEs",
    "outputId": "9a46aa02-afc6-456d-c15b-7fdad71554a4"
   },
   "outputs": [
    {
     "name": "stdout",
     "output_type": "stream",
     "text": [
      "2.746316343158822 0.0010983562465740886 0.015891045150828405\n"
     ]
    }
   ],
   "source": [
    "returns_flat = logR.stack().values\n",
    "df_t, mu_t, sigma_t = stats.t.fit(returns_flat)\n",
    "print(df_t,mu_t,sigma_t)"
   ]
  },
  {
   "cell_type": "code",
   "execution_count": null,
   "metadata": {
    "colab": {
     "base_uri": "https://localhost:8080/"
    },
    "id": "gMTv_ZwMCbiA",
    "outputId": "7d1b25c3-202e-4da9-8139-63da4f5cf9f2"
   },
   "outputs": [],
   "source": [
    "B = 1000\n",
    "estimates = np.array([stats.t.fit(np.random.choice(returns_flat, size=N, replace=True))\n",
    "                      for _ in range(B)])\n",
    "ci_mu_t    = np.percentile(estimates[:,1], [2.5,97.5])\n",
    "ci_sigma_t = np.percentile(estimates[:,2], [2.5,97.5])\n",
    "print(\"\\nStudent’s t fit:\")\n",
    "print(f\"  df = {df_t:.1f}, μ = {mu_t:.5f},  σ = {sigma_t:.5f}\")\n",
    "print(f\"  95% CI for μ (bootstrap): {ci_mu_t}\")\n",
    "print(f\"  95% CI for σ (bootstrap): {ci_sigma_t}\")"
   ]
  },
  {
   "cell_type": "markdown",
   "metadata": {
    "id": "AJ2HMRQXqc6X"
   },
   "source": [
    "### VAR With Normal dist"
   ]
  },
  {
   "cell_type": "code",
   "execution_count": null,
   "metadata": {
    "colab": {
     "base_uri": "https://localhost:8080/",
     "height": 458
    },
    "id": "BNNCyXLbEgvY",
    "outputId": "d6a3167a-5f0a-4228-e22b-99bde6aa2292"
   },
   "outputs": [],
   "source": [
    "portR= logR.dot(weights)\n",
    "portR"
   ]
  },
  {
   "cell_type": "code",
   "execution_count": null,
   "metadata": {
    "colab": {
     "base_uri": "https://localhost:8080/"
    },
    "id": "ditedxmTEt6c",
    "outputId": "40a3e5b9-55b5-46b0-f81d-ca992c699d80"
   },
   "outputs": [],
   "source": [
    "μ_p = portR.mean()\n",
    "σ_p = portR.std(ddof=1)\n",
    "μ_p,σ_p"
   ]
  },
  {
   "cell_type": "code",
   "execution_count": null,
   "metadata": {
    "id": "UuMrxlN9FAOH"
   },
   "outputs": [],
   "source": [
    "#Zscore (0.05)\n",
    "z05= stats.norm.ppf(0.05)\n",
    "\n",
    "# VAR with 95%\n",
    "VAR_norm= -(μ_p + σ_p *z05)"
   ]
  },
  {
   "cell_type": "markdown",
   "metadata": {
    "id": "ciMd02Z4qc8W"
   },
   "source": []
  },
  {
   "cell_type": "code",
   "execution_count": null,
   "metadata": {
    "colab": {
     "base_uri": "https://localhost:8080/"
    },
    "id": "PS1Aa8hBFDzt",
    "outputId": "7e833b31-f307-486e-a695-617e35c993cc"
   },
   "outputs": [],
   "source": [
    "print(VAR_norm)"
   ]
  },
  {
   "cell_type": "markdown",
   "metadata": {
    "id": "FpQ-cd7Rqc-U"
   },
   "source": [
    "### VAR Using Student-t distribution\n",
    "\n"
   ]
  },
  {
   "cell_type": "code",
   "execution_count": null,
   "metadata": {
    "colab": {
     "base_uri": "https://localhost:8080/"
    },
    "id": "PlbOMqglFU_f",
    "outputId": "b31750b5-f5cc-4ab5-c1ac-4669a2dc0e31"
   },
   "outputs": [],
   "source": [
    "t05 = stats.t.ppf(0.05,df_t)\n",
    "VaR_t = -(mu_t + sigma_t *t05) *1\n",
    "VaR_t"
   ]
  },
  {
   "cell_type": "markdown",
   "metadata": {
    "id": "58K2cixoqdAV"
   },
   "source": [
    "### Historical Method VAR Calc"
   ]
  },
  {
   "cell_type": "code",
   "execution_count": null,
   "metadata": {
    "colab": {
     "base_uri": "https://localhost:8080/"
    },
    "id": "7LoFJNQBFqbg",
    "outputId": "c3d590ab-492c-44d6-b432-020e77eb170a"
   },
   "outputs": [],
   "source": [
    "hist_var = -np.percentile(portR,5)\n",
    "hist_var"
   ]
  },
  {
   "cell_type": "code",
   "execution_count": null,
   "metadata": {
    "colab": {
     "base_uri": "https://localhost:8080/"
    },
    "id": "1hcLQLSOFuJp",
    "outputId": "8145b794-a5c2-4075-f4c4-7034b0a2e3a6"
   },
   "outputs": [],
   "source": [
    "\n",
    "print(\"1-Day 95% VaR:\")\n",
    "print(f\"  Parametric (Normal):       {VAR_norm:.5f}\")\n",
    "print(f\"  Parametric (Student’s t):  {VaR_t:.5f}\")\n",
    "print(f\"  Historical (5th percentile): {hist_var:.5f}\")"
   ]
  },
  {
   "cell_type": "markdown",
   "metadata": {
    "id": "sC82MPCQqdCc"
   },
   "source": [
    "### We found that on most days portfolio won't lost more then 3.2 to 3.78 %"
   ]
  },
  {
   "cell_type": "markdown",
   "metadata": {
    "id": "OtfKJGqQG3sQ"
   },
   "source": [
    "### Hypothesis Test"
   ]
  },
  {
   "cell_type": "code",
   "execution_count": null,
   "metadata": {
    "id": "LoAW75hIG2XF"
   },
   "outputs": [],
   "source": [
    "t_stat, p_val = stats.ttest_1samp(portR, 0.0)"
   ]
  },
  {
   "cell_type": "code",
   "execution_count": null,
   "metadata": {
    "colab": {
     "base_uri": "https://localhost:8080/"
    },
    "id": "ZU-Qkw9NG8ZH",
    "outputId": "b75fbf29-ba74-4483-9ebe-cfc8c95ed9df"
   },
   "outputs": [],
   "source": [
    "print(\"One-sample t-test on portfolio daily returns:\")\n",
    "print(f\"  t-statistic = {t_stat:.3f},  p-value = {p_val:.3f}\")"
   ]
  },
  {
   "cell_type": "code",
   "execution_count": null,
   "metadata": {
    "colab": {
     "base_uri": "https://localhost:8080/"
    },
    "id": "-ahFhoMxG-ZP",
    "outputId": "dd188dcc-2a68-42dd-d0d3-e7543e25c354"
   },
   "outputs": [],
   "source": [
    "if p_val < 0.05:\n",
    "    print(\"  → Reject H0: mean return is significantly different from zero.\")\n",
    "else:\n",
    "    print(\"  → Fail to reject H0: no evidence mean return ≠ 0.\")"
   ]
  },
  {
   "cell_type": "markdown",
   "metadata": {
    "id": "uueGx51lqdEM"
   },
   "source": [
    "### Correlation Matrix"
   ]
  },
  {
   "cell_type": "code",
   "execution_count": null,
   "metadata": {
    "colab": {
     "base_uri": "https://localhost:8080/",
     "height": 468
    },
    "id": "9k6gzCQwHDN1",
    "outputId": "d718fbb0-0dec-4a26-f240-a8f0849d3a07"
   },
   "outputs": [],
   "source": [
    "# a) Correlation heatmap\n",
    "corr = logR.corr()\n",
    "plt.figure(figsize=(6,5))\n",
    "sns.heatmap(corr, annot=True, cmap='coolwarm', vmin=-1, vmax=1)\n",
    "plt.title('Asset Return Correlations')\n",
    "plt.show()\n"
   ]
  },
  {
   "cell_type": "code",
   "execution_count": null,
   "metadata": {
    "colab": {
     "base_uri": "https://localhost:8080/"
    },
    "id": "fIOdFf-nHHmX",
    "outputId": "80fae333-3776-43ec-8ea8-8d5d9ea9daff"
   },
   "outputs": [],
   "source": [
    "# b) Diversification benefit\n",
    "σ_i = logR.std()                         # individual volatilities\n",
    "σ_weighted = np.dot(weights, σ_i)        # naive weighted avg\n",
    "σ_portfolio = σ_p                        # from earlier\n",
    "print(f\"Weighted avg σ: {σ_weighted:.4f}\")\n",
    "print(f\"Actual portfolio σ: {σ_portfolio:.4f}\")\n",
    "print(f\"Diversification benefit: {σ_weighted-σ_portfolio:.4f}\")"
   ]
  },
  {
   "cell_type": "markdown",
   "metadata": {
    "id": "e_sOh-koqdGT"
   },
   "source": [
    "### Max Draw-down / Draw Down"
   ]
  },
  {
   "cell_type": "code",
   "execution_count": null,
   "metadata": {
    "colab": {
     "base_uri": "https://localhost:8080/",
     "height": 458
    },
    "id": "nYv1H2MxHofe",
    "outputId": "c6f23acb-eda9-433e-9824-cfa0cc79db44"
   },
   "outputs": [],
   "source": [
    "# Max Drawdown\n",
    "cum_ret = (price / price.iloc[0]).prod(axis=1)  # cumulative portfolio growth?\n",
    "# Actually for portfolio: cum_port = (portR + 1).cumprod()\n",
    "cum_port = (portR + 1).cumprod()\n",
    "cum_port"
   ]
  },
  {
   "cell_type": "code",
   "execution_count": 24,
   "metadata": {
    "colab": {
     "base_uri": "https://localhost:8080/",
     "height": 458
    },
    "id": "k5fbrFZpIY7M",
    "outputId": "201de406-5372-4908-857e-457468cef402"
   },
   "outputs": [
    {
     "data": {
      "text/plain": [
       "2020-01-03    0.997930\n",
       "2020-01-06    1.012023\n",
       "2020-01-07    1.016932\n",
       "2020-01-08    1.033048\n",
       "2020-01-09    1.038489\n",
       "                ...   \n",
       "2025-05-16    3.210473\n",
       "2025-05-19    3.210473\n",
       "2025-05-20    3.210473\n",
       "2025-05-21    3.210473\n",
       "2025-05-22    3.210473\n",
       "Length: 1354, dtype: float64"
      ]
     },
     "execution_count": 24,
     "metadata": {},
     "output_type": "execute_result"
    }
   ],
   "source": [
    "#Track the highest value reached so far\n",
    "rolling_max = cum_port.cummax()\n",
    "rolling_max\n"
   ]
  },
  {
   "cell_type": "code",
   "execution_count": 25,
   "metadata": {
    "id": "brb5NDgNIfO_"
   },
   "outputs": [],
   "source": [
    "drawdown   = (cum_port - rolling_max) / rolling_max\n",
    "max_dd = drawdown.min()\n",
    "end_date = drawdown.idxmin()\n",
    "start_date = cum_port[:end_date].idxmax()"
   ]
  },
  {
   "cell_type": "markdown",
   "metadata": {
    "id": "IoNCS8vHqdIN"
   },
   "source": []
  },
  {
   "cell_type": "code",
   "execution_count": 26,
   "metadata": {
    "colab": {
     "base_uri": "https://localhost:8080/"
    },
    "id": "Trs9PGY6IjKl",
    "outputId": "538b940c-8c04-4373-ac38-710f71f6b29c"
   },
   "outputs": [
    {
     "name": "stdout",
     "output_type": "stream",
     "text": [
      "Max Drawdown: -52.07%\n",
      "From 2022-01-03 to 2023-01-05\n"
     ]
    }
   ],
   "source": [
    "print(f\"Max Drawdown: {max_dd:.2%}\")\n",
    "print(f\"From {start_date.date()} to {end_date.date()}\")"
   ]
  },
  {
   "cell_type": "markdown",
   "metadata": {
    "id": "QFlwQHAJIufl"
   },
   "source": [
    "### PLOT WISE VISULIZATION OF DRAWDOWN\n"
   ]
  },
  {
   "cell_type": "code",
   "execution_count": 27,
   "metadata": {
    "colab": {
     "base_uri": "https://localhost:8080/",
     "height": 468
    },
    "id": "lADOeEJ7Ijeg",
    "outputId": "5d78f58f-2b05-48af-d82d-da32c1f42807"
   },
   "outputs": [
    {
     "data": {
      "image/png": "[encoded data removed]",
      "text/plain": [
       "<Figure size 1000x500 with 1 Axes>"
      ]
     },
     "metadata": {},
     "output_type": "display_data"
    }
   ],
   "source": [
    "# Plot\n",
    "plt.figure(figsize=(10,5))\n",
    "plt.plot(cum_port, label='Cumulative')\n",
    "plt.fill_between(drawdown.index, cum_port, rolling_max,\n",
    "                 where=drawdown<0, color='red', alpha=0.5)\n",
    "plt.title('Portfolio Cumulative Return & Drawdown')\n",
    "plt.legend()\n",
    "plt.show()"
   ]
  },
  {
   "cell_type": "markdown",
   "metadata": {
    "id": "Al64K5TJI7oq"
   },
   "source": [
    "### Expected shortfall / CVAR"
   ]
  },
  {
   "cell_type": "code",
   "execution_count": 28,
   "metadata": {
    "colab": {
     "base_uri": "https://localhost:8080/"
    },
    "id": "hG8eo7W3Iyqt",
    "outputId": "fa75f0bf-38bd-4ab7-e556-d6575c47a0c3"
   },
   "outputs": [
    {
     "name": "stdout",
     "output_type": "stream",
     "text": [
      "Historical ES (95%): -0.04804\n",
      "Parametric Normal ES (95%): -0.00329\n"
     ]
    }
   ],
   "source": [
    "alpha = 0.5 ##  ES at beyond 95%\n",
    "# historical\n",
    "ES_historical = portR[portR <= np.percentile(portR, 5)].mean()\n",
    "\n",
    "# normal method\n",
    "ES_norm = (μ_p - σ_p * stats.norm.pdf(z05) / alpha)\n",
    "\n",
    "print(f\"Historical ES (95%): {ES_historical:.5f}\")\n",
    "print(f\"Parametric Normal ES (95%): {ES_norm:.5f}\")"
   ]
  },
  {
   "cell_type": "markdown",
   "metadata": {
    "id": "_7-dCfK-JEoN"
   },
   "source": [
    "### VAR Backtesting"
   ]
  },
  {
   "cell_type": "code",
   "execution_count": 29,
   "metadata": {
    "colab": {
     "base_uri": "https://localhost:8080/"
    },
    "id": "TcBw4U2kJCPW",
    "outputId": "0bf42d39-bcbe-4ea8-ed49-25e84a680da9"
   },
   "outputs": [
    {
     "name": "stdout",
     "output_type": "stream",
     "text": [
      "Exceptions: 71/1354 days (5.24%, expected ~5%)\n"
     ]
    }
   ],
   "source": [
    "var_series= (portR.rolling(1).mean()  + portR.rolling(1).std()*z05)\n",
    "### i am taking normal dist VAR\n",
    "exc= portR <- VAR_norm\n",
    "num_exc= exc.sum()\n",
    "\n",
    "total =  len(portR)\n",
    "\n",
    "\n",
    "print(f\"Exceptions: {num_exc}/{total} days ({num_exc/total:.2%}, expected ~5%)\")"
   ]
  },
  {
   "cell_type": "markdown",
   "metadata": {
    "id": "lUGEQ0ARJKaj"
   },
   "source": [
    "### Rolling 60-day VaR\n"
   ]
  },
  {
   "cell_type": "code",
   "execution_count": 30,
   "metadata": {
    "colab": {
     "base_uri": "https://localhost:8080/",
     "height": 391
    },
    "id": "lMYlaLdDJHn2",
    "outputId": "a17419ee-381c-4fe8-a161-d0dc37cd2475"
   },
   "outputs": [
    {
     "data": {
      "image/png": "[encoded data removed]",
      "text/plain": [
       "<Figure size 1000x400 with 1 Axes>"
      ]
     },
     "metadata": {},
     "output_type": "display_data"
    }
   ],
   "source": [
    "window = 60\n",
    "roll_var = portR.rolling(window).quantile(0.05).dropna()\n",
    "plt.figure(figsize=(10,4))\n",
    "plt.plot(-roll_var, label='Rolling 95% VaR (hist)')\n",
    "plt.axhline(VAR_norm, color='red', linestyle='--', label='Static VaR')\n",
    "plt.title('Rolling 60-Day Historical VaR (95%)')\n",
    "plt.ylabel('VaR')\n",
    "plt.legend()\n",
    "plt.show()"
   ]
  },
  {
   "cell_type": "markdown",
   "metadata": {
    "id": "ecF5r4oVJRee"
   },
   "source": [
    "### Jarque bara test"
   ]
  },
  {
   "cell_type": "code",
   "execution_count": 31,
   "metadata": {
    "colab": {
     "base_uri": "https://localhost:8080/"
    },
    "id": "yCwqTxNiJOLG",
    "outputId": "1fe70357-4f80-49fa-d9d8-234097c26f07"
   },
   "outputs": [
    {
     "name": "stdout",
     "output_type": "stream",
     "text": [
      "JB statistic = 979.70, p-value = 0.000\n",
      "Reject normality at 5% level.\n"
     ]
    }
   ],
   "source": [
    "\n",
    "jb_stat, jb_p = stats.jarque_bera(portR)\n",
    "print(f\"JB statistic = {jb_stat:.2f}, p-value = {jb_p:.3f}\")\n",
    "if jb_p < 0.05:\n",
    "    print(\"Reject normality at 5% level.\")\n",
    "else:\n",
    "    print(\"Cannot reject normality.\")"
   ]
  },
  {
   "cell_type": "markdown",
   "metadata": {
    "id": "rJtumJCaJdC3"
   },
   "source": [
    "# ASSIGNMENT TASK GIVEN IN CLASSROOM\n",
    "\n",
    "Question: Given a portfolio’s VaR at 95% confidence is 10,000, compute the Expected Shortfall (ES) if the tail loss distribution follows a normal distribution.\n",
    "\n",
    "Question: A portfolio has an expected annual return of 12%, a risk-free rate of 2%, and a standard deviation of 18%. Compute the Sharpe Ratio.\n",
    "\n",
    "Question: Given mean return = 7%, volatility = 12%, and time horizon = 1 year, simulate one possible future portfolio return using a Monte Carlo model.\n",
    "\n"
   ]
  },
  {
   "cell_type": "markdown",
   "metadata": {
    "id": "Mg6XQQpyJmBy"
   },
   "source": [
    "## 1.Question: Given a portfolio’s VaR at 95% confidence is 10,000, compute the Expected Shortfall (ES) if the tail loss distribution follows a normal distribution.\n",
    "\n",
    "\n",
    "\n"
   ]
  },
  {
   "cell_type": "code",
   "execution_count": 44,
   "metadata": {
    "colab": {
     "base_uri": "https://localhost:8080/"
    },
    "id": "pg0AmfIrJ7DS",
    "outputId": "7d0acb40-6b66-4f3e-dc93-8231bcff9f24"
   },
   "outputs": [
    {
     "name": "stdout",
     "output_type": "stream",
     "text": [
      "Expected Shortfall at 95%: 12540.40\n"
     ]
    }
   ],
   "source": [
    "import scipy.stats as stats\n",
    "\n",
    "def compute_expected_shortfall(var, confidence_level):\n",
    "    z = stats.norm.ppf(confidence_level)\n",
    "    sigma = var / z\n",
    "    es = (stats.norm.pdf(z) / (1 - confidence_level)) * sigma\n",
    "    return es\n",
    "\n",
    "var_95 = 10000\n",
    "confidence = 0.95\n",
    "es_95 = compute_expected_shortfall(var_95, confidence)\n",
    "print(f\"Expected Shortfall at 95%: {es_95:.2f}\")\n"
   ]
  },
  {
   "cell_type": "markdown",
   "metadata": {
    "id": "UBKUllJhJrNZ"
   },
   "source": [
    "## 2.Question: A portfolio has an expected annual return of 12%, a risk-free rate of 2%, and a standard deviation of 18%. Compute the Sharpe Ratio.\n"
   ]
  },
  {
   "cell_type": "code",
   "execution_count": 45,
   "metadata": {
    "colab": {
     "base_uri": "https://localhost:8080/"
    },
    "id": "nfuXMY0LJ7g2",
    "outputId": "f4b4c37d-754b-4702-df59-5cf052263989"
   },
   "outputs": [
    {
     "name": "stdout",
     "output_type": "stream",
     "text": [
      "\n",
      "Given values for Sharpe Ratio calculation:\n",
      "  Expected Annual Return: 12.00%\n",
      "  Risk-Free Rate: 2.00%\n",
      "  Standard Deviation: 18.00%\n",
      "Computed Sharpe Ratio: 0.5556\n"
     ]
    }
   ],
   "source": [
    "\n",
    "# Given values for the second question\n",
    "expected_return = 0.12  \n",
    "risk_free_rate = 0.02   \n",
    "std_dev = 0.18          \n",
    "\n",
    "# Compute the Sharpe Ratio\n",
    "sharpe_ratio = (expected_return - risk_free_rate) / std_dev\n",
    "\n",
    "print(\"\\nGiven values for Sharpe Ratio calculation:\")\n",
    "print(f\"  Expected Annual Return: {expected_return:.2%}\")\n",
    "print(f\"  Risk-Free Rate: {risk_free_rate:.2%}\")\n",
    "print(f\"  Standard Deviation: {std_dev:.2%}\")\n",
    "print(f\"Computed Sharpe Ratio: {sharpe_ratio:.4f}\")"
   ]
  },
  {
   "cell_type": "markdown",
   "metadata": {
    "id": "Qi1g2SLJJrQs"
   },
   "source": [
    "This code computes the Sharpe Ratio for a portfolio using the given expected annual return, risk-free rate, and standard deviation. The Sharpe Ratio measures risk-adjusted return, showing how much excess return is earned for each unit of risk taken."
   ]
  },
  {
   "cell_type": "markdown",
   "metadata": {},
   "source": [
    "## 3.Question: Given mean return = 7%, volatility = 12%, and time horizon = 1 year, simulate one possible future portfolio return using a Monte Carlo model.\n"
   ]
  },
  {
   "cell_type": "code",
   "execution_count": null,
   "metadata": {
    "colab": {
     "base_uri": "https://localhost:8080/"
    },
    "id": "7u0QIdJqJV9D",
    "outputId": "061eacdb-0657-482e-812e-6803dec698b2"
   },
   "outputs": [
    {
     "name": "stdout",
     "output_type": "stream",
     "text": [
      "Q3: Monte Carlo Simulated Return\n",
      "  Mean Return: 7.00%\n",
      "  Volatility: 12.00%\n",
      "  Time Horizon: 1 year\n",
      "  Simulated Z: -1.9379\n",
      "  Simulated Portfolio Return: -0.1561 (-15.61%)\n"
     ]
    }
   ],
   "source": [
    "mu = 0.07  # Mean return\n",
    "sigma = 0.12  # Volatility\n",
    "t = 1  # Time horizon in years\n",
    "\n",
    "log_mu = mu - 0.5 * sigma**2\n",
    "z = np.random.standard_normal()\n",
    "simulated_price_relative = np.exp(log_mu * t + sigma * np.sqrt(t) * z)\n",
    "simulated_return = simulated_price_relative - 1\n",
    "\n",
    "print(\"Monte Carlo Simulated Return\")\n",
    "print(f\"  Mean Return: {mu:.2%}\")\n",
    "print(f\"  Volatility: {sigma:.2%}\")\n",
    "print(f\"  Time Horizon: {t} year\")\n",
    "print(f\"  Simulated Z: {z:.4f}\")\n",
    "print(f\"  Simulated Portfolio Return: {simulated_return:.4f} ({simulated_return:.2%})\")\n"
   ]
  },
  {
   "cell_type": "markdown",
   "metadata": {
    "id": "zXz4yMffKxCN"
   },
   "source": [
    "Simulate one possible future portfolio return\n",
    "For a single time period (like 1 year here), we can use a simple model\n",
    "based on the log-normal distribution assumption, which is common for asset prices.\n",
    "The future return can be modeled as R_t = exp(mu*t + sigma*sqrt(t)*Z) - 1\n",
    "where:\n",
    "mu is the annual mean log return (approximately mean_return - 0.5 * sigma^2 for small sigma)\n",
    "sigma is the annual volatility\n",
    "t is the time horizon in years\n",
    "Z is a standard normal random variable (mean=0, std dev=1)\n",
    "\n",
    "Calculate the mean of the log returns (log_mu)\n",
    "A common approximation for daily/short period returns: E[ln(1+R)] approx E[R] - Var[R]/2\n",
    "For annual returns: E[ln(1+R)] = mu * t\n",
    "E[ln(1+R)] approx annual_mean - 0.5 * annual_variance"
   ]
  },
  {
   "cell_type": "code",
   "execution_count": null,
   "metadata": {},
   "outputs": [],
   "source": []
  }
 ],
 "metadata": {
  "colab": {
   "provenance": []
  },
  "kernelspec": {
   "display_name": "Python 3 (ipykernel)",
   "language": "python",
   "name": "python3"
  },
  "language_info": {
   "codemirror_mode": {
    "name": "ipython",
    "version": 3
   },
   "file_extension": ".py",
   "mimetype": "text/x-python",
   "name": "python",
   "nbconvert_exporter": "python",
   "pygments_lexer": "ipython3",
   "version": "3.12.7"
  }
 },
 "nbformat": 4,
 "nbformat_minor": 4
}
