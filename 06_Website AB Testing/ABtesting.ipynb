{
 "cells": [
  {
   "cell_type": "code",
   "execution_count": 1,
   "id": "14287cf8",
   "metadata": {},
   "outputs": [],
   "source": [
    "import numpy as np\n",
    "import pandas as pd\n",
    "import matplotlib.pyplot as plt\n",
    "import seaborn as sns\n",
    "\n",
    "from scipy import stats\n",
    "from statsmodels.stats.proportion import proportions_ztest"
   ]
  },
  {
   "cell_type": "code",
   "execution_count": 2,
   "id": "f50e8456",
   "metadata": {},
   "outputs": [],
   "source": [
    "np.random.seed(42)"
   ]
  },
  {
   "cell_type": "code",
   "execution_count": 3,
   "id": "ad0a68a0",
   "metadata": {},
   "outputs": [],
   "source": [
    "n_A = 10000\n",
    "n_B = 10000\n",
    "P_A = 0.10\n",
    "P_B = 0.12"
   ]
  },
  {
   "cell_type": "code",
   "execution_count": 4,
   "id": "a551df3d",
   "metadata": {},
   "outputs": [],
   "source": [
    "success_A = np.random.binomial(n_A,P_A)\n",
    "success_B = np.random.binomial(n_B,P_B)"
   ]
  },
  {
   "cell_type": "code",
   "execution_count": 5,
   "id": "567fb1f2",
   "metadata": {},
   "outputs": [
    {
     "name": "stdout",
     "output_type": "stream",
     "text": [
      "973 1134\n"
     ]
    }
   ],
   "source": [
    "print(success_A,success_B)"
   ]
  },
  {
   "cell_type": "markdown",
   "id": "fc39f5f3",
   "metadata": {},
   "source": [
    "For calculating the the 95% confidence interval"
   ]
  },
  {
   "cell_type": "code",
   "execution_count": 6,
   "id": "a39397a4",
   "metadata": {},
   "outputs": [],
   "source": [
    "def proportion(success,n,alpha=0.05):\n",
    "    p_hat = success/n\n",
    "    z = stats.norm.ppf(1 - alpha/2)\n",
    "    se = np.sqrt(p_hat * (1- p_hat)/n)\n",
    "    return p_hat,p_hat - z*se,p_hat+z*se"
   ]
  },
  {
   "cell_type": "code",
   "execution_count": 7,
   "id": "bb100995",
   "metadata": {},
   "outputs": [],
   "source": [
    "p_A_hat,ci_low_A,ci_high_A = proportion(success_A,n_A)\n",
    "p_B_hat,ci_low_B,ci_high_B = proportion(success_B,n_B)"
   ]
  },
  {
   "cell_type": "code",
   "execution_count": 8,
   "id": "b75b6414",
   "metadata": {},
   "outputs": [
    {
     "name": "stdout",
     "output_type": "stream",
     "text": [
      "0.0973 0.09149133631051884 0.10310866368948116\n",
      "0.1134 0.1071853241430106 0.1196146758569894\n"
     ]
    }
   ],
   "source": [
    "print(p_A_hat,ci_low_A,ci_high_A)\n",
    "print(p_B_hat,ci_low_B,ci_high_B )"
   ]
  },
  {
   "cell_type": "code",
   "execution_count": 18,
   "id": "86157511",
   "metadata": {},
   "outputs": [],
   "source": [
    "results = pd.DataFrame({\n",
    "    'Variant': ['A','B'],\n",
    "    'Visitors': [n_A,n_B],\n",
    "    'Conversions': [success_A,success_B],\n",
    "    'CR(p_hat)': [p_A_hat,p_B_hat],\n",
    "    'CI Lower (95%)':[ci_low_A, ci_low_B],\n",
    "    'CI Upper (95%)':[ci_high_A,ci_high_B],\n",
    "})"
   ]
  },
  {
   "cell_type": "code",
   "execution_count": 12,
   "id": "f9bc8fd9",
   "metadata": {},
   "outputs": [
    {
     "data": {
      "text/html": [
       "<div>\n",
       "<style scoped>\n",
       "    .dataframe tbody tr th:only-of-type {\n",
       "        vertical-align: middle;\n",
       "    }\n",
       "\n",
       "    .dataframe tbody tr th {\n",
       "        vertical-align: top;\n",
       "    }\n",
       "\n",
       "    .dataframe thead th {\n",
       "        text-align: right;\n",
       "    }\n",
       "</style>\n",
       "<table border=\"1\" class=\"dataframe\">\n",
       "  <thead>\n",
       "    <tr style=\"text-align: right;\">\n",
       "      <th></th>\n",
       "      <th>Variant</th>\n",
       "      <th>Visitors</th>\n",
       "      <th>Conversions</th>\n",
       "      <th>CR(p_hat)</th>\n",
       "      <th>CI Lower (95%)</th>\n",
       "      <th>CI Upper (95%)</th>\n",
       "    </tr>\n",
       "  </thead>\n",
       "  <tbody>\n",
       "    <tr>\n",
       "      <th>0</th>\n",
       "      <td>A</td>\n",
       "      <td>10000</td>\n",
       "      <td>973</td>\n",
       "      <td>0.0973</td>\n",
       "      <td>0.091491</td>\n",
       "      <td>0.103109</td>\n",
       "    </tr>\n",
       "    <tr>\n",
       "      <th>1</th>\n",
       "      <td>B</td>\n",
       "      <td>10000</td>\n",
       "      <td>1134</td>\n",
       "      <td>0.1134</td>\n",
       "      <td>0.119615</td>\n",
       "      <td>0.119615</td>\n",
       "    </tr>\n",
       "  </tbody>\n",
       "</table>\n",
       "</div>"
      ],
      "text/plain": [
       "  Variant  Visitors  Conversions  CR(p_hat)  CI Lower (95%)  CI Upper (95%)\n",
       "0       A     10000          973     0.0973        0.091491        0.103109\n",
       "1       B     10000         1134     0.1134        0.119615        0.119615"
      ]
     },
     "execution_count": 12,
     "metadata": {},
     "output_type": "execute_result"
    }
   ],
   "source": [
    "results"
   ]
  },
  {
   "cell_type": "code",
   "execution_count": 24,
   "id": "f44834c7",
   "metadata": {},
   "outputs": [
    {
     "data": {
      "text/plain": [
       "<BarContainer object of 2 artists>"
      ]
     },
     "execution_count": 24,
     "metadata": {},
     "output_type": "execute_result"
    },
    {
     "data": {
      "image/png": "[encoded data removed]",
      "text/plain": [
       "<Figure size 800x600 with 1 Axes>"
      ]
     },
     "metadata": {},
     "output_type": "display_data"
    }
   ],
   "source": [
    "plt.figure(figsize=(8,6))\n",
    "\n",
    "plt.bar(\n",
    "    results['Variant'],\n",
    "    results['CI Upper (95%)'],\n",
    "    capsize = 5,\n",
    "    color = ['pink','cyan']\n",
    ")\n",
    "plt.bar(\n",
    "    results['Variant'],\n",
    "    results['CR(p_hat)'],\n",
    "    capsize = 5,\n",
    "    color = ['red','blue']\n",
    ")\n",
    "plt.bar(\n",
    "    results['Variant'],\n",
    "    results['CI Lower (95%)'],\n",
    "    capsize = 5,\n",
    "    color = ['brown','#00008B']\n",
    ")"
   ]
  },
  {
   "cell_type": "code",
   "execution_count": null,
   "id": "2c5c178c",
   "metadata": {},
   "outputs": [],
   "source": [
    "from statsmodels.stats.proportion import proportions_ztest"
   ]
  },
  {
   "cell_type": "code",
   "execution_count": 31,
   "id": "c1ea25b3",
   "metadata": {},
   "outputs": [
    {
     "name": "stdout",
     "output_type": "stream",
     "text": [
      "Z-statistic : 3.708\n",
      "P-value: 0.000\n"
     ]
    }
   ],
   "source": [
    "count = np.array([success_B,success_A])\n",
    "nobs = np.array([n_A,n_B])\n",
    "z_stat, p_value = proportions_ztest(count,nobs,alternative = 'larger')\n",
    "print(f\"Z-statistic : {z_stat:.3f}\")\n",
    "print(f\"P-value: {p_value:.3f}\")"
   ]
  },
  {
   "cell_type": "code",
   "execution_count": 33,
   "id": "049e6bc2",
   "metadata": {},
   "outputs": [
    {
     "name": "stdout",
     "output_type": "stream",
     "text": [
      "Reject H0: Variant B have significantly higher conversion rate then Varient A\n"
     ]
    }
   ],
   "source": [
    "if p_value < 0.05:\n",
    "    print(\"Reject H0: Variant B have significantly higher conversion rate then Varient A\")\n",
    "else:\n",
    "    print(\"Fai to reject H0: Variant B does not have higher conversion rate then Varient A\")\n",
    "    "
   ]
  },
  {
   "cell_type": "code",
   "execution_count": 34,
   "id": "5c29e4cc",
   "metadata": {},
   "outputs": [],
   "source": [
    "import time"
   ]
  },
  {
   "cell_type": "code",
   "execution_count": null,
   "id": "b0829e6e",
   "metadata": {},
   "outputs": [
    {
     "name": "stdout",
     "output_type": "stream",
     "text": [
      "Batch 60/60\n",
      " Variant A: 6000 visits, 540 buys -> CR = 9.000%\n",
      " Variant B: 6000 visits, 709 buys -> CR = 11.817%\n",
      " Observed lift: 2.817%\n",
      " z-stat = 5.05, p-value = 0.0000\n",
      " ✅ Significant lift detected (p<0.05).\n"
     ]
    }
   ],
   "source": [
    "true_p_A,true_p_B = 0.10,0.12\n",
    "batch_size = 100\n",
    "n_batches = 60\n",
    "\n",
    "n_visits_A = n_visits_B = 0\n",
    "n_succ_A = n_succ_B = 0\n",
    "\n",
    "batches = []\n",
    "p_values = []\n",
    "lifts = []\n",
    "\n",
    "SD = 0\n",
    "NSD = 0\n",
    "for batch in range(1,n_batches+1):\n",
    "    new_A = np.random.binomial(batch_size,true_p_A)\n",
    "    new_B = np.random.binomial(batch_size,true_p_B)\n",
    "    \n",
    "    n_visits_A += batch_size\n",
    "    n_visits_B += batch_size\n",
    "    n_succ_A += new_A\n",
    "    n_succ_B += new_B\n",
    "    \n",
    "    cr_A = n_succ_A/n_visits_A\n",
    "    cr_B = n_succ_B/n_visits_B\n",
    "    lift = cr_B - cr_A\n",
    "    \n",
    "    count = np.array([n_succ_B,n_succ_A])\n",
    "    nobs = np.array([n_visits_B,n_visits_A])\n",
    "    z_stat, p_value = proportions_ztest(count,nobs,alternative = 'larger')\n",
    "    \n",
    "    batches.append(batch)\n",
    "    p_values.append(p_value)\n",
    "    lifts.append(lift)\n",
    "    \n",
    "print(f\"Batch {batch}/{n_batches}\")\n",
    "print(f\" Variant A: {n_visits_A} visits, {n_succ_A} buys -> CR = {cr_A:.3%}\")\n",
    "print(f\" Variant B: {n_visits_B} visits, {n_succ_B} buys -> CR = {cr_B:.3%}\")\n",
    "print(f\" Observed lift: {lift:.3%}\")\n",
    "print(f\" z-stat = {z_stat:.2f}, p-value = {p_value:.4f}\")\n",
    "if p_value < 0.05:\n",
    "    print(\" ✅ Significant lift detected (p<0.05).\")\n",
    "else:\n",
    "    print(\" ❌ No significant lift yet.\")"
   ]
  },
  {
   "cell_type": "code",
   "execution_count": 46,
   "id": "d18a9205",
   "metadata": {},
   "outputs": [
    {
     "data": {
      "image/png": "[encoded data removed]",
      "text/plain": [
       "<Figure size 640x480 with 1 Axes>"
      ]
     },
     "metadata": {},
     "output_type": "display_data"
    }
   ],
   "source": [
    "plt.plot(batches,p_values,'-r')\n",
    "plt.plot(batches,lifts,'-b')\n",
    "plt.show()"
   ]
  },
  {
   "cell_type": "markdown",
   "id": "88818f12",
   "metadata": {},
   "source": []
  },
  {
   "cell_type": "code",
   "execution_count": null,
   "id": "5024d702",
   "metadata": {},
   "outputs": [],
   "source": []
  }
 ],
 "metadata": {
  "kernelspec": {
   "display_name": "Python 3",
   "language": "python",
   "name": "python3"
  },
  "language_info": {
   "codemirror_mode": {
    "name": "ipython",
    "version": 3
   },
   "file_extension": ".py",
   "mimetype": "text/x-python",
   "name": "python",
   "nbconvert_exporter": "python",
   "pygments_lexer": "ipython3",
   "version": "3.12.4"
  }
 },
 "nbformat": 4,
 "nbformat_minor": 5
}
